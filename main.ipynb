{
 "cells": [
  {
   "cell_type": "code",
   "execution_count": 1,
   "metadata": {},
   "outputs": [],
   "source": [
    "from auxillary.convertClass import YUV2RGB_GPU\n",
    "from auxillary.argments import ffmpeg_cmd\n",
    "\n",
    "import subprocess"
   ]
  },
  {
   "cell_type": "code",
   "execution_count": 2,
   "metadata": {},
   "outputs": [],
   "source": [
    "ffmpeg1 = subprocess.Popen(ffmpeg_cmd, stdout=subprocess.PIPE, bufsize=10)"
   ]
  },
  {
   "cell_type": "code",
   "execution_count": 3,
   "metadata": {},
   "outputs": [
    {
     "name": "stdout",
     "output_type": "stream",
     "text": [
      "Completed\n"
     ]
    }
   ],
   "source": [
    "if __name__ == '__main__':\n",
    "    C = YUV2RGB_GPU()\n",
    "    ffmpegs = [ffmpeg1]\n",
    "    while True:      \n",
    "        width = 640\n",
    "        height = 360\n",
    "        k = width*height\n",
    "        \n",
    "        ys = []\n",
    "        us = []\n",
    "        vs = []\n",
    "        for i in ffmpegs:\n",
    "            inpt = i.stdout.read(int(width*height*6//4))  # read bytes of single frames\n",
    "            y =  np.frombuffer(inpt[0:k], dtype=np.uint8).reshape((height, width))\n",
    "            u =  np.frombuffer(inpt[k:k+k//4], dtype=np.uint8).reshape((height//2, width//2))\n",
    "            v =  np.frombuffer(inpt[k+k//4:], dtype=np.uint8).reshape((height//2, width//2))\n",
    "\n",
    "            u = np.reshape(cv2.resize(np.expand_dims(u, -1), (width, height)), (height, width))\n",
    "            v = np.reshape(cv2.resize(np.expand_dims(v, -1), (width, height)), (height, width))\n",
    "\n",
    "            image = np.stack([y, u, v], axis=-1)\n",
    "\n",
    "            ys.append(y)\n",
    "            us.append(u)\n",
    "            vs.append(v)\n",
    "\n",
    "        image = C.convert(ys, us, vs)\n",
    "        image = np.concatenate(image, axis=0) \n",
    "        image = cv2.resize(image, None, fx=1/2, fy=1/2)\n",
    "        cv2.imshow(\"image\", image)\n",
    "        \n",
    "        if cv2.waitKey(10) & 0xFF == ord('b'):\n",
    "               break\n",
    "\n",
    "    cv2.destroyAllWindows()\n",
    "    print('Completed')"
   ]
  },
  {
   "cell_type": "markdown",
   "metadata": {},
   "source": [
    "----"
   ]
  }
 ],
 "metadata": {
  "kernelspec": {
   "display_name": "Python 3",
   "language": "python",
   "name": "python3"
  },
  "language_info": {
   "codemirror_mode": {
    "name": "ipython",
    "version": 3
   },
   "file_extension": ".py",
   "mimetype": "text/x-python",
   "name": "python",
   "nbconvert_exporter": "python",
   "pygments_lexer": "ipython3",
   "version": "3.6.6"
  }
 },
 "nbformat": 4,
 "nbformat_minor": 2
}
