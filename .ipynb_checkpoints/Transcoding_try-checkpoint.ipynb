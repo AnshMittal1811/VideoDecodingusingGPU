{
 "cells": [
  {
   "cell_type": "markdown",
   "metadata": {},
   "source": [
    "# Transcoding video using OpenCV, FFMPEG, Tensorflow"
   ]
  },
  {
   "cell_type": "code",
   "execution_count": 1,
   "metadata": {},
   "outputs": [],
   "source": [
    "import subprocess as sp\n",
    "import cv2 \n",
    "import numpy as np\n",
    "from PIL import Image\n",
    "import tensorflow as tf"
   ]
  },
  {
   "cell_type": "code",
   "execution_count": 2,
   "metadata": {},
   "outputs": [
    {
     "ename": "PermissionError",
     "evalue": "[WinError 5] Access is denied",
     "output_type": "error",
     "traceback": [
      "\u001b[1;31m---------------------------------------------------------------------------\u001b[0m",
      "\u001b[1;31mPermissionError\u001b[0m                           Traceback (most recent call last)",
      "\u001b[1;32m<ipython-input-2-8ccf4f85e7b0>\u001b[0m in \u001b[0;36m<module>\u001b[1;34m()\u001b[0m\n\u001b[0;32m     26\u001b[0m \u001b[1;33m\u001b[0m\u001b[0m\n\u001b[0;32m     27\u001b[0m \u001b[1;33m\u001b[0m\u001b[0m\n\u001b[1;32m---> 28\u001b[1;33m \u001b[0mffmpeg1\u001b[0m \u001b[1;33m=\u001b[0m \u001b[0msp\u001b[0m\u001b[1;33m.\u001b[0m\u001b[0mPopen\u001b[0m\u001b[1;33m(\u001b[0m\u001b[0mffmpeg_cmd_1\u001b[0m\u001b[1;33m,\u001b[0m \u001b[0mstdout\u001b[0m\u001b[1;33m=\u001b[0m\u001b[0msp\u001b[0m\u001b[1;33m.\u001b[0m\u001b[0mPIPE\u001b[0m\u001b[1;33m,\u001b[0m \u001b[0mbufsize\u001b[0m\u001b[1;33m=\u001b[0m\u001b[1;36m10\u001b[0m\u001b[1;33m)\u001b[0m\u001b[1;33m\u001b[0m\u001b[0m\n\u001b[0m\u001b[0;32m     29\u001b[0m \u001b[0mffmpeg2\u001b[0m \u001b[1;33m=\u001b[0m \u001b[0msp\u001b[0m\u001b[1;33m.\u001b[0m\u001b[0mPopen\u001b[0m\u001b[1;33m(\u001b[0m\u001b[0mffmpeg_cmd_2\u001b[0m\u001b[1;33m,\u001b[0m \u001b[0mstdout\u001b[0m\u001b[1;33m=\u001b[0m\u001b[0msp\u001b[0m\u001b[1;33m.\u001b[0m\u001b[0mPIPE\u001b[0m\u001b[1;33m,\u001b[0m \u001b[0mbufsize\u001b[0m\u001b[1;33m=\u001b[0m\u001b[1;36m10\u001b[0m\u001b[1;33m)\u001b[0m\u001b[1;33m\u001b[0m\u001b[0m\n\u001b[0;32m     30\u001b[0m \u001b[1;33m\u001b[0m\u001b[0m\n",
      "\u001b[1;32m~\\Anaconda3\\envs\\python-cvcourse\\lib\\subprocess.py\u001b[0m in \u001b[0;36m__init__\u001b[1;34m(self, args, bufsize, executable, stdin, stdout, stderr, preexec_fn, close_fds, shell, cwd, env, universal_newlines, startupinfo, creationflags, restore_signals, start_new_session, pass_fds, encoding, errors)\u001b[0m\n\u001b[0;32m    707\u001b[0m                                 \u001b[0mc2pread\u001b[0m\u001b[1;33m,\u001b[0m \u001b[0mc2pwrite\u001b[0m\u001b[1;33m,\u001b[0m\u001b[1;33m\u001b[0m\u001b[0m\n\u001b[0;32m    708\u001b[0m                                 \u001b[0merrread\u001b[0m\u001b[1;33m,\u001b[0m \u001b[0merrwrite\u001b[0m\u001b[1;33m,\u001b[0m\u001b[1;33m\u001b[0m\u001b[0m\n\u001b[1;32m--> 709\u001b[1;33m                                 restore_signals, start_new_session)\n\u001b[0m\u001b[0;32m    710\u001b[0m         \u001b[1;32mexcept\u001b[0m\u001b[1;33m:\u001b[0m\u001b[1;33m\u001b[0m\u001b[0m\n\u001b[0;32m    711\u001b[0m             \u001b[1;31m# Cleanup if the child failed starting.\u001b[0m\u001b[1;33m\u001b[0m\u001b[1;33m\u001b[0m\u001b[0m\n",
      "\u001b[1;32m~\\Anaconda3\\envs\\python-cvcourse\\lib\\subprocess.py\u001b[0m in \u001b[0;36m_execute_child\u001b[1;34m(self, args, executable, preexec_fn, close_fds, pass_fds, cwd, env, startupinfo, creationflags, shell, p2cread, p2cwrite, c2pread, c2pwrite, errread, errwrite, unused_restore_signals, unused_start_new_session)\u001b[0m\n\u001b[0;32m    995\u001b[0m                                          \u001b[0menv\u001b[0m\u001b[1;33m,\u001b[0m\u001b[1;33m\u001b[0m\u001b[0m\n\u001b[0;32m    996\u001b[0m                                          \u001b[0mos\u001b[0m\u001b[1;33m.\u001b[0m\u001b[0mfspath\u001b[0m\u001b[1;33m(\u001b[0m\u001b[0mcwd\u001b[0m\u001b[1;33m)\u001b[0m \u001b[1;32mif\u001b[0m \u001b[0mcwd\u001b[0m \u001b[1;32mis\u001b[0m \u001b[1;32mnot\u001b[0m \u001b[1;32mNone\u001b[0m \u001b[1;32melse\u001b[0m \u001b[1;32mNone\u001b[0m\u001b[1;33m,\u001b[0m\u001b[1;33m\u001b[0m\u001b[0m\n\u001b[1;32m--> 997\u001b[1;33m                                          startupinfo)\n\u001b[0m\u001b[0;32m    998\u001b[0m             \u001b[1;32mfinally\u001b[0m\u001b[1;33m:\u001b[0m\u001b[1;33m\u001b[0m\u001b[0m\n\u001b[0;32m    999\u001b[0m                 \u001b[1;31m# Child is launched. Close the parent's copy of those pipe\u001b[0m\u001b[1;33m\u001b[0m\u001b[1;33m\u001b[0m\u001b[0m\n",
      "\u001b[1;31mPermissionError\u001b[0m: [WinError 5] Access is denied"
     ]
    }
   ],
   "source": [
    "ffmpeg_cmd_1 = [\"./ffmpeg\",  \"-y\",  \n",
    "              \"-hwaccel\",  \"nvdec\",\n",
    "              \"-c:v\",  \"h264_cuvid\",\n",
    "              \"-vsync\", \"0\", \n",
    "              \"-max_delay\", \"500000\", \n",
    "              \"-reorder_queue_size\", \"10000\", \n",
    "              \"-f\", \"./Data/Source2.mp4\",\n",
    "              \"-pix_fmt\", \"yuv420p\",\n",
    "              \"-preset\", \"slow\",\n",
    "              \"-an\", \"-sn\", \n",
    "              \"-vf\", \"fps=15\", \n",
    "              \"-\"]\n",
    "\n",
    "ffmpeg_cmd_2 = [\"./ffmpeg\",  \"-y\",\n",
    "              \"-hwaccel\",  \"nvdec\",\n",
    "              \"-c:v\",  \"h264_cuvid\",\n",
    "              \"-vsync\", \"0\",\n",
    "              \"-max_delay\", \"500000\",\n",
    "              \"-reorder_queue_size\", \"10000\",\n",
    "              \"-f\", \"./Data/Source2.mp4\",\n",
    "              \"-preset\", \"slow\",\n",
    "              \"-an\", \"-sn\",\n",
    "              \"-pix_fmt\", \"yuv420p\",\n",
    "              \"-vf\", \"fps=15\",\n",
    "              \"-\"]\n",
    "\n",
    "\n",
    "ffmpeg1 = sp.Popen(ffmpeg_cmd_1, stdout=sp.PIPE, bufsize=10)\n",
    "ffmpeg2 = sp.Popen(ffmpeg_cmd_2, stdout=sp.PIPE, bufsize=10)\n",
    "\n",
    "class YUV2RGB_GPU():\n",
    "    def __init__(self, w=1920, h=1080): \n",
    "        config = tf.ConfigProto(gpu_options=tf.GPUOptions(per_process_gpu_memory_fraction=0.03))\n",
    "        self.y = tf.placeholder(shape=(1, h, w), dtype=tf.float32)\n",
    "        self.u = tf.placeholder(shape=(1, h, w), dtype=tf.float32) \n",
    "        self.v = tf.placeholder(shape=(1, h, w), dtype=tf.float32)\n",
    "        r = self.y+1.371*(self.v-128)\n",
    "        g = self.y+0.338* (self.u-128)-0.698*(self.v-128)\n",
    "        b = self.y+1.732*(self.u-128)\n",
    "        result = tf.stack([b, g, r], axis=-1)\n",
    "        self.result = tf.clip_by_value(result, 0, 255)\n",
    "        self.sess = tf.Session(config=config)\n",
    "\n",
    "    def convert(self, y, u, v):\n",
    "        results = self.sess.run(self.result, feed_dict={self.y:y, self.u: u, self.v: v})\n",
    "        return results.astype(np.uint8)\n",
    "\n",
    "C = YUV2RGB_GPU()\n",
    "\n",
    "ffmpegs = [ffmpeg1, ffmpeg2]\n",
    "while True:\n",
    "    w = 1920\n",
    "    h = 1080\n",
    "    k = w*h\n",
    "    ys = []\n",
    "    us = []\n",
    "    vs = []\n",
    "    for i in ffmpegs:\n",
    "        x = i.stdout.read(int(w*h*6//4))  # read bytes of single frames\n",
    "        y =  np.frombuffer(x[0:k], dtype=np.uint8).reshape((h, w))\n",
    "        u =  np.frombuffer(x[k:k+k//4], dtype=np.uint8).reshape((h//2, w//2))\n",
    "        v =  np.frombuffer(x[k+k//4:], dtype=np.uint8).reshape((h//2, w//2))\n",
    "        u = np.reshape(cv2.resize(np.expand_dims(u, -1), (w, h)), (h, w))\n",
    "        v = np.reshape(cv2.resize(np.expand_dims(v, -1), (w, h)), (h, w))\n",
    "        image = np.stack([y, u, v], axis=-1)\n",
    "        ys.append(y)\n",
    "        us.append(u)\n",
    "        vs.append(v)\n",
    "    image = C.convert(ys, us, vs)\n",
    "    image = np.concatenate(image, axis=0) \n",
    "    image = cv2.resize(image, None, fx=1/2, fy=1/2)\n",
    "    cv2.imshow(\"im\", image)\n",
    "    if cv2.waitKey(20) & 0xFF == ord('q'):\n",
    "           break\n",
    "\n",
    "cv2.destroyAllWindows()\n"
   ]
  },
  {
   "cell_type": "code",
   "execution_count": null,
   "metadata": {},
   "outputs": [],
   "source": []
  }
 ],
 "metadata": {
  "kernelspec": {
   "display_name": "Python 3",
   "language": "python",
   "name": "python3"
  },
  "language_info": {
   "codemirror_mode": {
    "name": "ipython",
    "version": 3
   },
   "file_extension": ".py",
   "mimetype": "text/x-python",
   "name": "python",
   "nbconvert_exporter": "python",
   "pygments_lexer": "ipython3",
   "version": "3.6.6"
  }
 },
 "nbformat": 4,
 "nbformat_minor": 2
}
