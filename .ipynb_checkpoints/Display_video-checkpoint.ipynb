{
 "cells": [
  {
   "cell_type": "markdown",
   "metadata": {},
   "source": [
    "# Displaying a Video"
   ]
  },
  {
   "cell_type": "code",
   "execution_count": 4,
   "metadata": {},
   "outputs": [],
   "source": [
    "import cv2 as cv \n",
    "import numpy\n",
    "\n",
    "vid  = cv.VideoCapture('./Data/Source1.mp4')\n",
    "\n",
    "if(vid.isOpened() == False):\n",
    "    print(\"You encountered an Error while opening the file\")\n",
    "    \n",
    "while(vid.isOpened()):\n",
    "    value, frame = vid.read()\n",
    "    \n",
    "    if value == True:\n",
    "        cv.imshow('Frame', frame)\n",
    "        \n",
    "        if cv.waitKey(10) & 0xFF == ord('b'):\n",
    "            break\n",
    "            \n",
    "    else:\n",
    "        break\n",
    "        \n",
    "vid.release()\n",
    "cv.destroyAllWindows()"
   ]
  },
  {
   "cell_type": "markdown",
   "metadata": {},
   "source": [
    "# Writing a Video"
   ]
  },
  {
   "cell_type": "code",
   "execution_count": 9,
   "metadata": {},
   "outputs": [],
   "source": [
    "feed = cv.VideoCapture(0)\n",
    "\n",
    "if (feed.isOpened() == False): \n",
    "    print(\"Error in reading camera feed\")\n",
    "    \n",
    "w = int(feed.get(3))\n",
    "h = int(feed.get(4))\n",
    "\n",
    "output = cv.VideoWriter('./Data/output1.avi',\n",
    "                     cv.VideoWriter_fourcc('M','J','P','G'), \n",
    "                     10, (w,h))\n",
    "while(True):\n",
    "    val, frame = feed.read()\n",
    "    if val == True: \n",
    "        output.write(frame)\n",
    "        cv.imshow('frame',frame)\n",
    "        \n",
    "        if cv.waitKey(1) & 0xFF == ord('b'):\n",
    "            break\n",
    "    else:\n",
    "        break \n",
    "        \n",
    "feed.release()\n",
    "output.release()\n",
    "cv.destroyAllWindows() \n"
   ]
  },
  {
   "cell_type": "markdown",
   "metadata": {},
   "source": [
    "# Changing Video formats"
   ]
  },
  {
   "cell_type": "code",
   "execution_count": 12,
   "metadata": {},
   "outputs": [],
   "source": [
    "import cv2 as cv \n",
    "import numpy\n",
    "\n",
    "vid  = cv.VideoCapture('./Data/Source1.mp4')\n",
    "\n",
    "if(vid.isOpened() == False):\n",
    "    print(\"You encountered an Error while opening the file\")\n",
    "    \n",
    "w = 1280\n",
    "h = 720\n",
    "\n",
    "output = cv.VideoWriter('./Data/output2.avi',\n",
    "                     cv.VideoWriter_fourcc('M','J','P','G'), \n",
    "                     10, (w,h))\n",
    "\n",
    "    \n",
    "while(vid.isOpened()):\n",
    "    value, frame = vid.read()\n",
    "    \n",
    "    if value == True:\n",
    "        output.write(frame)\n",
    "        cv.imshow('frame',frame)\n",
    "        \n",
    "        \n",
    "        if cv.waitKey(1) & 0xFF == ord('b'):\n",
    "            break\n",
    "            \n",
    "    else:\n",
    "        break\n",
    "        \n",
    "vid.release()\n",
    "output.release()\n",
    "cv.destroyAllWindows()"
   ]
  },
  {
   "cell_type": "code",
   "execution_count": null,
   "metadata": {},
   "outputs": [],
   "source": []
  }
 ],
 "metadata": {
  "kernelspec": {
   "display_name": "Python 3",
   "language": "python",
   "name": "python3"
  },
  "language_info": {
   "codemirror_mode": {
    "name": "ipython",
    "version": 3
   },
   "file_extension": ".py",
   "mimetype": "text/x-python",
   "name": "python",
   "nbconvert_exporter": "python",
   "pygments_lexer": "ipython3",
   "version": "3.6.6"
  }
 },
 "nbformat": 4,
 "nbformat_minor": 2
}
