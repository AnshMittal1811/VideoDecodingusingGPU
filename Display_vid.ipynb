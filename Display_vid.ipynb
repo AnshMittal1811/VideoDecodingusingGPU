{
 "cells": [
  {
   "cell_type": "markdown",
   "metadata": {},
   "source": [
    "# Displaying a Video"
   ]
  },
  {
   "cell_type": "code",
   "execution_count": 2,
   "metadata": {},
   "outputs": [],
   "source": [
    "import cv2 as cv \n",
    "import numpy\n",
    "\n",
    "vid  = cv.VideoCapture('./Data/A Beginner\\'s Guide to the Fourth Dimension.mp4')\n",
    "\n",
    "if(vid.isOpened() == False):\n",
    "    print(\"You encountered an Error while opening the file\")\n",
    "    \n",
    "while(vid.isOpened()):\n",
    "    value, frame = vid.read()\n",
    "    \n",
    "    if value == True:\n",
    "        cv.imshow('Frame', frame)\n",
    "        \n",
    "        if cv.waitKey(10) & 0xFF == ord('b'):\n",
    "            break\n",
    "            \n",
    "    else:\n",
    "        break\n",
    "        \n",
    "vid.release()\n",
    "\n",
    "cv.destroyAllWindows()"
   ]
  },
  {
   "cell_type": "markdown",
   "metadata": {},
   "source": [
    "# Writing a Video"
   ]
  },
  {
   "cell_type": "code",
   "execution_count": null,
   "metadata": {},
   "outputs": [],
   "source": [
    "\n",
    "cap = cv2.VideoCapture(0)\n",
    "if (cap.isOpened() == False): \n",
    "  print(\"Unable to read camera feed\")\n",
    "frame_width = int(cap.get(3))\n",
    "frame_height = int(cap.get(4))\n",
    "out = cv2.VideoWriter('outpy.avi',cv2.VideoWriter_fourcc('M','J','P','G'), 10, (frame_width,frame_height))\n",
    "while(True):\n",
    "  ret, frame = cap.read()\n",
    "  if ret == True: \n",
    "    out.write(frame)\n",
    "\n",
    "    cv2.imshow('frame',frame)\n",
    "    if cv2.waitKey(1) & 0xFF == ord('q'):\n",
    "      break\n",
    "  else:\n",
    "    break \n",
    "cap.release()\n",
    "out.release()\n",
    "cv2.destroyAllWindows() \n"
   ]
  }
 ],
 "metadata": {
  "kernelspec": {
   "display_name": "Python 3",
   "language": "python",
   "name": "python3"
  },
  "language_info": {
   "codemirror_mode": {
    "name": "ipython",
    "version": 3
   },
   "file_extension": ".py",
   "mimetype": "text/x-python",
   "name": "python",
   "nbconvert_exporter": "python",
   "pygments_lexer": "ipython3",
   "version": "3.6.6"
  }
 },
 "nbformat": 4,
 "nbformat_minor": 2
}
