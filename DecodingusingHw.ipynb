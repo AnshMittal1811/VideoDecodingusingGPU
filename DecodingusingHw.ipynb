{
 "cells": [
  {
   "cell_type": "markdown",
   "metadata": {},
   "source": [
    "# Transcoding video using OpenCV, FFMPEG, Tensorflow"
   ]
  },
  {
   "cell_type": "code",
   "execution_count": 2,
   "metadata": {},
   "outputs": [],
   "source": [
    "import subprocess\n",
    "import cv2 \n",
    "import numpy as np\n",
    "from PIL import Image\n",
    "import tensorflow as tf"
   ]
  },
  {
   "cell_type": "code",
   "execution_count": 17,
   "metadata": {},
   "outputs": [],
   "source": [
    "ffmpeg_cmd = [\"ffmpeg\",  \"-y\",\n",
    "                \"-vsync\", \"0\",\n",
    "                \"-hwaccel\",  \"nvdec\",\n",
    "                \"–s\",\"1280x720\", \n",
    "                \"-c:v\",  \"h264_cuvid\",\n",
    "                \"-i\", \"./Data/Source1.mp4\",\n",
    "                \"-preset\", \"slow\",\n",
    "                \"-b:v\", \"5M\",\n",
    "                \"./Data/outTrans.yuv\"]"
   ]
  },
  {
   "cell_type": "code",
   "execution_count": 18,
   "metadata": {},
   "outputs": [],
   "source": [
    "ffmpeg1 = subprocess.Popen(ffmpeg_cmd, stdout=sp.PIPE, bufsize=10)"
   ]
  },
  {
   "cell_type": "code",
   "execution_count": 19,
   "metadata": {},
   "outputs": [],
   "source": [
    "class YUV2RGB_GPU():\n",
    "    def __init__(self, w=1920, h=1080): \n",
    "        config = tf.ConfigProto(gpu_options=tf.GPUOptions(per_process_gpu_memory_fraction=0.03))\n",
    "        self.y = tf.placeholder(shape=(1, h, w), dtype=tf.float32)\n",
    "        self.u = tf.placeholder(shape=(1, h, w), dtype=tf.float32) \n",
    "        self.v = tf.placeholder(shape=(1, h, w), dtype=tf.float32)\n",
    "        r = self.y+1.371*(self.v-128)\n",
    "        g = self.y+0.338* (self.u-128)-0.698*(self.v-128)\n",
    "        b = self.y+1.732*(self.u-128)\n",
    "        result = tf.stack([b, g, r], axis=-1)\n",
    "        self.result = tf.clip_by_value(result, 0, 255)\n",
    "        self.sess = tf.Session(config=config)\n",
    "\n",
    "    def convert(self, y, u, v):\n",
    "        results = self.sess.run(self.result, feed_dict={self.y:y, self.u: u, self.v: v})\n",
    "        return results.astype(np.uint8)\n"
   ]
  },
  {
   "cell_type": "code",
   "execution_count": 21,
   "metadata": {},
   "outputs": [
    {
     "name": "stdout",
     "output_type": "stream",
     "text": [
      "Completed\n"
     ]
    }
   ],
   "source": [
    "if __name__ == '__main__':\n",
    "    C = YUV2RGB_GPU()\n",
    "    ffmpegs = [ffmpeg1]\n",
    "    while True:      \n",
    "        width = 640\n",
    "        height = 360\n",
    "        k = width*height\n",
    "        \n",
    "        ys = []\n",
    "        us = []\n",
    "        vs = []\n",
    "        for i in ffmpegs:\n",
    "            inpt = i.stdout.read(int(width*height*6//4))  # read bytes of single frames\n",
    "            y =  np.frombuffer(inpt[0:k], dtype=np.uint8).reshape((height, width))\n",
    "            u =  np.frombuffer(inpt[k:k+k//4], dtype=np.uint8).reshape((height//2, width//2))\n",
    "            v =  np.frombuffer(inpt[k+k//4:], dtype=np.uint8).reshape((height//2, width//2))\n",
    "\n",
    "            u = np.reshape(cv2.resize(np.expand_dims(u, -1), (width, height)), (height, width))\n",
    "            v = np.reshape(cv2.resize(np.expand_dims(v, -1), (width, height)), (height, width))\n",
    "\n",
    "            image = np.stack([y, u, v], axis=-1)\n",
    "\n",
    "            ys.append(y)\n",
    "            us.append(u)\n",
    "            vs.append(v)\n",
    "\n",
    "        image = C.convert(ys, us, vs)\n",
    "        image = np.concatenate(image, axis=0) \n",
    "        image = cv2.resize(image, None, fx=1/2, fy=1/2)\n",
    "        cv2.imshow(\"image\", image)\n",
    "        \n",
    "        if cv2.waitKey(10) & 0xFF == ord('b'):\n",
    "               break\n",
    "\n",
    "    cv2.destroyAllWindows()\n",
    "    print('Completed')"
   ]
  }
 ],
 "metadata": {
  "kernelspec": {
   "display_name": "Python 3",
   "language": "python",
   "name": "python3"
  },
  "language_info": {
   "codemirror_mode": {
    "name": "ipython",
    "version": 3
   },
   "file_extension": ".py",
   "mimetype": "text/x-python",
   "name": "python",
   "nbconvert_exporter": "python",
   "pygments_lexer": "ipython3",
   "version": "3.6.6"
  }
 },
 "nbformat": 4,
 "nbformat_minor": 2
}
